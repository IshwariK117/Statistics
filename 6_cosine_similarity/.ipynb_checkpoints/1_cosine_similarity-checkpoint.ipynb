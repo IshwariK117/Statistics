{
 "cells": [
  {
   "cell_type": "markdown",
   "id": "a9e41a8f-e1e0-4949-a76a-7b26ef23e195",
   "metadata": {},
   "source": [
    "- cosine similarity is a metric, helpful in determining, how similar the data objects are irrespective of their size"
   ]
  },
  {
   "cell_type": "markdown",
   "id": "7431b199-8cb3-4ea9-8238-f3724464bfda",
   "metadata": {},
   "source": [
    "COSINE SIMILARITY = ||A|| ||B|| *Cos(theta) / ||A|| ||B||"
   ]
  },
  {
   "cell_type": "code",
   "execution_count": null,
   "id": "32c448d2-7052-4a15-ab89-8ff90e5c1574",
   "metadata": {},
   "outputs": [],
   "source": []
  }
 ],
 "metadata": {
  "kernelspec": {
   "display_name": "Python 3 (ipykernel)",
   "language": "python",
   "name": "python3"
  },
  "language_info": {
   "codemirror_mode": {
    "name": "ipython",
    "version": 3
   },
   "file_extension": ".py",
   "mimetype": "text/x-python",
   "name": "python",
   "nbconvert_exporter": "python",
   "pygments_lexer": "ipython3",
   "version": "3.12.4"
  }
 },
 "nbformat": 4,
 "nbformat_minor": 5
}
